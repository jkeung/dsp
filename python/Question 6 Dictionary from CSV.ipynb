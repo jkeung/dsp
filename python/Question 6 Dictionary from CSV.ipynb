{
 "cells": [
  {
   "cell_type": "code",
   "execution_count": 36,
   "metadata": {
    "collapsed": true
   },
   "outputs": [],
   "source": [
    "import re\n",
    "import collections\n",
    "from pprint import pprint\n",
    "\n",
    "names = []\n",
    "last_names = []\n",
    "first_names = []\n",
    "degrees = []\n",
    "titles = []\n",
    "emails = []"
   ]
  },
  {
   "cell_type": "code",
   "execution_count": 37,
   "metadata": {
    "collapsed": true
   },
   "outputs": [],
   "source": [
    "fac_csv = re.compile(r'^(.*)\\s*,\\s*(.*)\\s*,\\s*(.*)\\s*,\\s*(.*)\\s*$', re.MULTILINE)"
   ]
  },
  {
   "cell_type": "code",
   "execution_count": 38,
   "metadata": {
    "collapsed": false
   },
   "outputs": [],
   "source": [
    "for name, degree, title, email in fac_csv.findall( open('faculty.csv'). read( )):\n",
    "    if name != 'name' :         # skip the header row\n",
    "            names.append(name)\n",
    "            name_parts = name.split()\n",
    "            last_names.append(name_parts[-1])\n",
    "            first_names.append(' '.join(name_parts[0:-1]))\n",
    "            #sometimes degree has periods, sometimes not; so strip out periods\n",
    "            degree = degree.replace('.', '')\n",
    "            # degree may contain multiple degrees for a person; so split it\n",
    "            degs = degree.split()\n",
    "            for deg in degs :\n",
    "                degrees.append(deg)\n",
    "            titles.append(title)\n",
    "            emails.append(email)\n",
    "            em_parts = email.split('@')\n",
    "            domain = em_parts[1]"
   ]
  },
  {
   "cell_type": "code",
   "execution_count": 48,
   "metadata": {
    "collapsed": false
   },
   "outputs": [
    {
     "name": "stdout",
     "output_type": "stream",
     "text": [
      "[('Putt', [['JD', 'Professor of Biostatistics', 'mputt@mail.med.upenn.edu']]),\n",
      " ('Feng',\n",
      "  [['PhD', 'Assistant Professor of Biostatistics', 'ruifeng@upenn.edu']]),\n",
      " ('Bilker', [['PhD', 'Professor of Biostatistics', 'warren@upenn.edu']]),\n",
      " ('Shaw',\n",
      "  [['PhD', 'Assistant Professor of Biostatistics', 'shawp@upenn.edu']]),\n",
      " ('Landis',\n",
      "  [['MPH', 'Professor of Biostatistics', 'jrlandis@mail.med.upenn.edu']]),\n",
      " ('Propert',\n",
      "  [['PhD', 'Professor of Biostatistics', 'propert@mail.med.upenn.edu']]),\n",
      " ('Gimotty', [['PhD', 'Professor of Biostatistics', 'pgimotty@upenn.edu']]),\n",
      " ('Joffe',\n",
      "  [['MD', 'Professor of Biostatistics', 'mjoffe@mail.med.upenn.edu']]),\n",
      " ('Ellenberg',\n",
      "  [['PhD', 'Professor of Biostatistics', 'sellenbe@upenn.edu'],\n",
      "   ['PhD', 'Professor of Biostatistics', 'jellenbe@mail.med.upenn.edu']]),\n",
      " ('Hubbard',\n",
      "  [['PhD',\n",
      "    'Associate Professor of Biostatistics',\n",
      "    'rhubb@mail.med.upenn.edu']]),\n",
      " ('Morales',\n",
      "  [['PhD',\n",
      "    'Associate Professor of Biostatistics',\n",
      "    'knashawn@mail.med.upenn.edu']]),\n",
      " ('Mitra',\n",
      "  [['PhD',\n",
      "    'Associate Professor of Biostatistics',\n",
      "    'nanditam@mail.med.upenn.edu']]),\n",
      " ('Ross',\n",
      "  [['MPH', 'Assistant Professor is Biostatistics', 'michross@upenn.edu']]),\n",
      " ('Troxel',\n",
      "  [['PhD', 'Professor of Biostatistics', 'atroxel@mail.med.upenn.edu']]),\n",
      " ('French',\n",
      "  [['PhD',\n",
      "    'Associate Professor of Biostatistics',\n",
      "    'bcfrench@mail.med.upenn.edu']]),\n",
      " ('Ratcliffe',\n",
      "  [['MA', 'Associate Professor of Biostatistics', 'sratclif@upenn.edu']]),\n",
      " ('Hsu',\n",
      "  [['PhD',\n",
      "    'Assistant Professor of Biostatistics',\n",
      "    'hsu9@mail.med.upenn.edu']]),\n",
      " ('Shults',\n",
      "  [['PhD', 'Professor of Biostatistics', 'jshults@mail.med.upenn.edu']]),\n",
      " ('Xie',\n",
      "  [['PhD',\n",
      "    'Associate Professor of Biostatistics',\n",
      "    'sxie@mail.med.upenn.edu'],\n",
      "   ['ScD', 'Assistant Professor of Biostatistics', 'dxie@upenn.edu']]),\n",
      " ('Shinohara',\n",
      "  [['ScD',\n",
      "    'Assistant Professor of Biostatistics',\n",
      "    'rshi@mail.med.upenn.edu']]),\n",
      " ('Bryan',\n",
      "  [['PhD', 'Assistant Professor of Biostatistics', 'bryanma@upenn.edu']]),\n",
      " ('Guo', [['PhD', 'Professor of Biostatistics', 'wguo@mail.med.upenn.edu']]),\n",
      " ('Localio',\n",
      "  [['PhD', 'Associate Professor of Biostatistics', 'rlocalio@upenn.edu']]),\n",
      " ('Yang',\n",
      "  [['PhD',\n",
      "    'Assistant Professor of Biostatistics',\n",
      "    'weiyang@mail.med.upenn.edu']]),\n",
      " ('Sammel',\n",
      "  [['PhD', 'Professor of Biostatistics', 'msammel@cceb.med.upenn.edu']]),\n",
      " ('Li',\n",
      "  [['PhD', 'Assistant Professor of Biostatistics', 'liy3@email.chop.edu'],\n",
      "   ['BSEd',\n",
      "    'Associate Professor of Biostatistics',\n",
      "    'mingyao@mail.med.upenn.edu'],\n",
      "   ['MS', 'Professor of Biostatistics', 'hongzhe@upenn.edu']]),\n",
      " ('Hwang',\n",
      "  [['PhD',\n",
      "    'Associate Professor of Biostatistics',\n",
      "    'whwang@mail.med.upenn.edu']]),\n",
      " ('Bellamy',\n",
      "  [['ScD',\n",
      "    'Associate Professor of Biostatistics',\n",
      "    'bellamys@mail.med.upenn.edu']]),\n",
      " ('Shou',\n",
      "  [['ScD',\n",
      "    'Assistant Professor of Biostatistics',\n",
      "    'hshou@mail.med.upenn.edu']]),\n",
      " ('Stephens',\n",
      "  [['ScD',\n",
      "    'Assistant Professor of Biostatistics',\n",
      "    'alisaste@mail.med.upenn.edu']]),\n",
      " ('Xiao',\n",
      "  [['PhD',\n",
      "    'Assistant Professor of Biostatistics',\n",
      "    'rxiao@mail.med.upenn.edu']]),\n",
      " ('Roy',\n",
      "  [['MS',\n",
      "    'Associate Professor of Biostatistics',\n",
      "    'jaroy@mail.med.upenn.edu']]),\n",
      " ('Chen',\n",
      "  [['PhD', 'Associate Professor of Biostatistics', 'jinboche@upenn.edu']])]\n"
     ]
    }
   ],
   "source": [
    "faculty_dict = {}\n",
    "for i in range(len(names)):\n",
    "    if last_names[i] not in faculty_dict.keys():\n",
    "        faculty_dict[last_names[i]] = [[degrees[i], titles[i], emails[i]]]\n",
    "    else:\n",
    "        faculty_dict[last_names[i]].append([degrees[i], titles[i], emails[i]])\n",
    "pprint(faculty_dict.items()[:])"
   ]
  },
  {
   "cell_type": "code",
   "execution_count": null,
   "metadata": {
    "collapsed": true
   },
   "outputs": [],
   "source": []
  },
  {
   "cell_type": "code",
   "execution_count": null,
   "metadata": {
    "collapsed": true
   },
   "outputs": [],
   "source": []
  }
 ],
 "metadata": {
  "kernelspec": {
   "display_name": "Python 2",
   "language": "python",
   "name": "python2"
  },
  "language_info": {
   "codemirror_mode": {
    "name": "ipython",
    "version": 2
   },
   "file_extension": ".py",
   "mimetype": "text/x-python",
   "name": "python",
   "nbconvert_exporter": "python",
   "pygments_lexer": "ipython2",
   "version": "2.7.10"
  }
 },
 "nbformat": 4,
 "nbformat_minor": 0
}
